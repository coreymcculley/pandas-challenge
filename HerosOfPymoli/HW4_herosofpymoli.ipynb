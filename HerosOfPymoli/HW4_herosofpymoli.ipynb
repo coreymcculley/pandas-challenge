{
 "cells": [
  {
   "cell_type": "code",
   "execution_count": 89,
   "metadata": {},
   "outputs": [],
   "source": [
    "#IMPORT PANDAS AND RAW DATA FILE\n",
    "import pandas as pd\n",
    "csv_path = \"Resources/purchase_data.csv\""
   ]
  },
  {
   "cell_type": "code",
   "execution_count": 141,
   "metadata": {},
   "outputs": [],
   "source": [
    "#READ THE CSV AND THEN REVIEW THE HEADER FOR CONFIRMATION\n",
    "data=pd.read_csv(csv_path)\n",
    "#data.head()"
   ]
  },
  {
   "cell_type": "code",
   "execution_count": 91,
   "metadata": {},
   "outputs": [],
   "source": [
    "#DETERMINE PLAYER COUNT BY REMOVING DUPLICATE SN, COUNT LENGTH \n",
    "SN_unique = data.drop_duplicates(\"SN\", keep=\"first\", inplace = False)\n",
    "num_players=len(SN_unique)\n",
    "#num_players"
   ]
  },
  {
   "cell_type": "code",
   "execution_count": 92,
   "metadata": {},
   "outputs": [],
   "source": [
    "#PURCHASING ANALYSIS CALCULATIONS\n",
    "Items_unique=data[\"Item ID\"].nunique()\n",
    "#Items_unique\n",
    "purprice_avg = round(data[\"Price\"].mean(),2)\n",
    "#purprice_avg\n",
    "pur_numtot=len(data)\n",
    "#pur_numtot\n",
    "revenue_tot = round(data[\"Price\"].sum(),2)\n",
    "#revenue_tot"
   ]
  },
  {
   "cell_type": "code",
   "execution_count": 93,
   "metadata": {},
   "outputs": [],
   "source": [
    "#GENDER DEMOGRAPHICS (Using the unique database to remove duplicates)\n",
    "data_gender = SN_unique.set_index(\"Gender\")\n",
    "male_count = len(data_gender.loc[\"Male\"])\n",
    "female_count = len(data_gender.loc[\"Female\"])\n",
    "na_count = len(data_gender.loc[\"Other / Non-Disclosed\"])\n",
    "male_per = round(100*male_count/num_players,2)\n",
    "female_per = round(100*female_count/num_players,2)\n",
    "na_per = round(100*na_count/num_players,2)\n",
    "#male_per\n",
    "#female_per\n",
    "#na_per"
   ]
  },
  {
   "cell_type": "code",
   "execution_count": 94,
   "metadata": {},
   "outputs": [],
   "source": [
    "#PURCHASING ANALYSIS BY GENDER (Using main data and reindexing by gender to create subsets of data to work with)\n",
    "data_genderfull=data.set_index(\"Gender\")\n",
    "data_male=data_genderfull.loc[\"Male\"]\n",
    "data_female=data_genderfull.loc[\"Female\"]\n",
    "data_na=data_genderfull.loc[\"Other / Non-Disclosed\"]\n",
    "#CALC COUNT, AVG, TOTAL PURCHASE VALUE AND AVG PERSON BY GENDER\n",
    "malepur_num=len(data_male)\n",
    "femalepur_num=len(data_female)\n",
    "napur_num=len(data_na)\n",
    "\n",
    "malepurprice_avg=round(data_male[\"Price\"].mean(),2)\n",
    "femalepurprice_avg=round(data_female[\"Price\"].mean(),2)\n",
    "napurprice_avg=round(data_na[\"Price\"].mean(),2)\n",
    "\n",
    "malepur_tot=round(data_male[\"Price\"].sum(),2)\n",
    "femalepur_tot=round(data_female[\"Price\"].sum(),2)\n",
    "napur_tot=round(data_na[\"Price\"].sum(),2)\n",
    "\n",
    "malepur_avgr=round(malepur_tot/male_count,2)\n",
    "femalepur_avgr=round(femalepur_tot/female_count,2)\n",
    "napur_avgr=round(napur_tot/na_count,2)\n",
    "#malepur_num\n",
    "#femalepur_num\n",
    "#napur_num\n",
    "#malepurprice_avg\n",
    "#femalepurprice_avg\n",
    "#napurprice_avg\n",
    "#malepur_tot\n",
    "#femalepur_tot\n",
    "#napur_tot\n",
    "#malepur_avgr\n",
    "#femalepur_avgr\n",
    "#napur_avgr"
   ]
  },
  {
   "cell_type": "code",
   "execution_count": 121,
   "metadata": {},
   "outputs": [
    {
     "data": {
      "text/plain": [
       "4.54"
      ]
     },
     "execution_count": 121,
     "metadata": {},
     "output_type": "execute_result"
    }
   ],
   "source": [
    "#AGE DEMOGRAPHICS (Using full data, label age groups and then drop duplicates)\n",
    "bins = [0,10,15,20,25,30,35,40,50]\n",
    "age_groups = [\"<10\", \"10-14\", \"15-19\", \"20-24\", \"25-29\", \"30-34\", \"35-39\",\"40+\"]\n",
    "data[\"Age Range\"] = pd.cut(data[\"Age\"], bins, labels=age_groups, right=False)\n",
    "data_age=data\n",
    "data_age=data_age.set_index(\"Age Range\")\n",
    "data_age1=data.drop_duplicates(\"SN\", keep=\"first\", inplace = False)\n",
    "data_age1=data_age1.set_index(\"Age Range\")\n",
    "#break new DB down by age group (lower range of group is the name to shorten naming convention)\n",
    "zero1 = data_age1.loc[\"<10\"]\n",
    "ten1 = data_age1.loc[\"10-14\"]\n",
    "fifteen1 = data_age1.loc[\"15-19\"]\n",
    "twenty1 = data_age1.loc[\"20-24\"]\n",
    "twentyfive1 = data_age1.loc[\"25-29\"]\n",
    "thirty1 = data_age1.loc[\"30-34\"]\n",
    "thirtyfive1 = data_age1.loc[\"35-39\"]\n",
    "forty1 = data_age1.loc[\"40+\"]\n",
    "\n",
    "#calc per group the unique number and percentage\n",
    "zero_count1=len(zero1)\n",
    "ten_count1=len(ten1)\n",
    "fifteen_count1=len(fifteen1)\n",
    "twenty_count1=len(twenty1)\n",
    "twentyfive_count1=len(twentyfive1)\n",
    "thirty_count1=len(thirty1)\n",
    "thirtyfive_count1=len(thirtyfive1)\n",
    "forty_count1=len(forty1)\n",
    "\n",
    "zero_per=round(zero_count1*100/num_players,2)\n",
    "ten_per=round(ten_count1*100/num_players,2)\n",
    "fifteen_per=round(fifteen_count1*100/num_players,2)\n",
    "twenty_per=round(twenty_count1*100/num_players,2)\n",
    "twentyfive_per=round(twentyfive_count1*100/num_players,2)\n",
    "thirty_per=round(thirty_count1*100/num_players,2)\n",
    "thirtyfive_per=round(thirtyfive_count1*100/num_players,2)\n",
    "forty_per=round(forty_count1*100/num_players,2)\n",
    "\n",
    "#calc per group the total number of purchases\n",
    "zero = data_age.loc[\"<10\"]\n",
    "ten = data_age.loc[\"10-14\"]\n",
    "fifteen = data_age.loc[\"15-19\"]\n",
    "twenty = data_age.loc[\"20-24\"]\n",
    "twentyfive = data_age.loc[\"25-29\"]\n",
    "thirty = data_age.loc[\"30-34\"]\n",
    "thirtyfive = data_age.loc[\"35-39\"]\n",
    "forty = data_age.loc[\"40+\"]\n",
    "zero_count=len(zero)\n",
    "ten_count=len(ten)\n",
    "fifteen_count=len(fifteen)\n",
    "twenty_count=len(twenty)\n",
    "twentyfive_count=len(twentyfive)\n",
    "thirty_count=len(thirty)\n",
    "thirtyfive_count=len(thirtyfive)\n",
    "forty_count=len(forty)\n",
    "\n",
    "#calc per group the number, average purchase, total purchase value and average purchase per person\n",
    "zeroprice_avg=round(zero[\"Price\"].mean(),2)\n",
    "tenprice_avg=round(ten[\"Price\"].mean(),2)\n",
    "fifteenprice_avg=round(fifteen[\"Price\"].mean(),2)\n",
    "twentyprice_avg=round(twenty[\"Price\"].mean(),2)\n",
    "twentyfiveprice_avg=round(twentyfive[\"Price\"].mean(),2)\n",
    "thirtyprice_avg=round(thirty[\"Price\"].mean(),2)\n",
    "thirtyfiveprice_avg=round(thirtyfive[\"Price\"].mean(),2)\n",
    "fortyprice_avg=round(forty[\"Price\"].mean(),2)\n",
    "\n",
    "zero_sum=round(zero[\"Price\"].sum(),2)\n",
    "ten_sum=round(ten[\"Price\"].sum(),2)\n",
    "fifteen_sum=round(fifteen[\"Price\"].sum(),2)\n",
    "twenty_sum=round(twenty[\"Price\"].sum(),2)\n",
    "twentyfive_sum=round(twentyfive[\"Price\"].sum(),2)\n",
    "thirty_sum=round(thirty[\"Price\"].sum(),2)\n",
    "thirtyfive_sum=round(thirtyfive[\"Price\"].sum(),2)\n",
    "forty_sum=round(forty[\"Price\"].sum(),2)\n",
    "\n",
    "zeropur_avg=round(zero_sum/zero_count1,2)\n",
    "tenpur_avg=round(ten_sum/ten_count1,2)\n",
    "fifteenpur_avg=round(fifteen_sum/fifteen_count1,2)\n",
    "twentypur_avg=round(twenty_sum/twenty_count1,2)\n",
    "twentyfivepur_avg=round(twentyfive_sum/twentyfive_count1,2)\n",
    "thirtypur_avg=round(thirty_sum/thirty_count1,2)\n",
    "thirtyfivepur_avg=round(thirtyfive_sum/thirtyfive_count1,2)\n",
    "fortypur_avg=round(forty_sum/forty_count1,2)\n"
   ]
  },
  {
   "cell_type": "code",
   "execution_count": 130,
   "metadata": {},
   "outputs": [
    {
     "data": {
      "text/plain": [
       "4.37"
      ]
     },
     "execution_count": 130,
     "metadata": {},
     "output_type": "execute_result"
    }
   ],
   "source": [
    "#TOP SPENDERS (Filter the data down to SN total spent and count)\n",
    "SN_Price = data.groupby([\"SN\", \"Price\"]).size().to_frame(name = \"Purchase Count\").reset_index()\n",
    "SN_pur = SN_Price.groupby(\"SN\").sum()\n",
    "SN_pur = SN_pur.sort_values(\"Price\", ascending = False).reset_index()\n",
    "#Calc the summary data\n",
    "SN1 = SN_pur.loc[0,:][\"SN\"]\n",
    "SN2 = SN_pur.loc[1,:][\"SN\"]\n",
    "SN3 = SN_pur.loc[2,:][\"SN\"]\n",
    "SN4 = SN_pur.loc[3,:][\"SN\"]\n",
    "SN5 = SN_pur.loc[4,:][\"SN\"]\n",
    "\n",
    "PurCount1 = SN_pur.loc[0,:][\"Purchase Count\"]\n",
    "PurCount2 = SN_pur.loc[1,:][\"Purchase Count\"]\n",
    "PurCount3 = SN_pur.loc[2,:][\"Purchase Count\"]\n",
    "PurCount4 = SN_pur.loc[3,:][\"Purchase Count\"]\n",
    "PurCount5 = SN_pur.loc[4,:][\"Purchase Count\"]\n",
    "\n",
    "TotPur1 = SN_pur.loc[0,:][\"Price\"]\n",
    "TotPur2 = SN_pur.loc[1,:][\"Price\"]\n",
    "TotPur3 = SN_pur.loc[2,:][\"Price\"]\n",
    "TotPur4 = SN_pur.loc[3,:][\"Price\"]\n",
    "TotPur5 = SN_pur.loc[4,:][\"Price\"]\n",
    "\n",
    "AvgPur1 = round(TotPur1/PurCount1,2)\n",
    "AvgPur2 = round(TotPur2/PurCount2,2)\n",
    "AvgPur3 = round(TotPur3/PurCount3,2)\n",
    "AvgPur4 = round(TotPur4/PurCount4,2)\n",
    "AvgPur5 = round(TotPur5/PurCount5,2)\n"
   ]
  },
  {
   "cell_type": "code",
   "execution_count": 161,
   "metadata": {},
   "outputs": [
    {
     "data": {
      "text/plain": [
       "13"
      ]
     },
     "execution_count": 161,
     "metadata": {},
     "output_type": "execute_result"
    }
   ],
   "source": [
    "#MOST POPULAR ITEMS (Same process as above except its by item id, name, price and count)\n",
    "pop_data=data[[\"Item ID\", \"Item Name\", \"Price\" ]]\n",
    "pop_df = pop_data.groupby([\"Item ID\", \"Item Name\"]).size().to_frame(name = \"Number of Purchases\").reset_index()\n",
    "pop_df = pop_df.sort_values(\"Number of Purchases\", ascending = False).reset_index()\n",
    "\n",
    "item1=pop_df.loc[0,:][\"Item ID\"]\n",
    "item2=pop_df.loc[1,:][\"Item ID\"]\n",
    "item3=pop_df.loc[2,:][\"Item ID\"]\n",
    "item4=pop_df.loc[3,:][\"Item ID\"]\n",
    "item5=pop_df.loc[4,:][\"Item ID\"]\n",
    "\n",
    "itemname1=pop_df.loc[0,:][\"Item Name\"]\n",
    "itemname2=pop_df.loc[1,:][\"Item Name\"]\n",
    "itemname3=pop_df.loc[2,:][\"Item Name\"]\n",
    "itemname4=pop_df.loc[3,:][\"Item Name\"]\n",
    "itemname5=pop_df.loc[4,:][\"Item Name\"]\n",
    "\n",
    "item_count1=pop_df.loc[0,:][\"Number of Purchases\"]\n",
    "item_count2=pop_df.loc[1,:][\"Number of Purchases\"]\n",
    "item_count3=pop_df.loc[2,:][\"Number of Purchases\"]\n",
    "item_count4=pop_df.loc[3,:][\"Number of Purchases\"]\n",
    "item_count5=pop_df.loc[4,:][\"Number of Purchases\"]\n",
    "\n"
   ]
  },
  {
   "cell_type": "code",
   "execution_count": null,
   "metadata": {},
   "outputs": [],
   "source": []
  }
 ],
 "metadata": {
  "kernelspec": {
   "display_name": "Python 3",
   "language": "python",
   "name": "python3"
  },
  "language_info": {
   "codemirror_mode": {
    "name": "ipython",
    "version": 3
   },
   "file_extension": ".py",
   "mimetype": "text/x-python",
   "name": "python",
   "nbconvert_exporter": "python",
   "pygments_lexer": "ipython3",
   "version": "3.7.6"
  }
 },
 "nbformat": 4,
 "nbformat_minor": 4
}
